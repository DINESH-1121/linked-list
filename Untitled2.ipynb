{
  "nbformat": 4,
  "nbformat_minor": 0,
  "metadata": {
    "colab": {
      "name": "Untitled2.ipynb",
      "provenance": [],
      "authorship_tag": "ABX9TyNcXRKIq0WuUpjlsXL9aaah",
      "include_colab_link": true
    },
    "kernelspec": {
      "name": "python3",
      "display_name": "Python 3"
    },
    "language_info": {
      "name": "python"
    }
  },
  "cells": [
    {
      "cell_type": "markdown",
      "metadata": {
        "id": "view-in-github",
        "colab_type": "text"
      },
      "source": [
        "<a href=\"https://colab.research.google.com/github/DINESH-1121/linked-list/blob/linkedlist/Untitled2.ipynb\" target=\"_parent\"><img src=\"https://colab.research.google.com/assets/colab-badge.svg\" alt=\"Open In Colab\"/></a>"
      ]
    },
    {
      "cell_type": "code",
      "execution_count": 37,
      "metadata": {
        "id": "YmEW4KMJWVlq"
      },
      "outputs": [],
      "source": [
        "import pandas as pd\n",
        "import numpy as np\n",
        "import math"
      ]
    },
    {
      "cell_type": "code",
      "source": [
        "df = pd.read_csv(\"/content/sample_data/students_data.csv\")"
      ],
      "metadata": {
        "id": "6nEsL2bFYzRo"
      },
      "execution_count": 38,
      "outputs": []
    },
    {
      "cell_type": "code",
      "source": [
        "def EuclidDist(x1,y1,x2,y2):\n",
        "  return math.sqrt((x2-x1)**2+(y2-y1)**2)"
      ],
      "metadata": {
        "id": "XWlb_aH2ZCeF"
      },
      "execution_count": 39,
      "outputs": []
    },
    {
      "cell_type": "code",
      "source": [
        "centroids = [[2],[6],[13],[16],[23]]"
      ],
      "metadata": {
        "id": "87n_ZENpbGK6"
      },
      "execution_count": 40,
      "outputs": []
    },
    {
      "cell_type": "code",
      "source": [
        "for row in range(30):\n",
        "  if(row+1) not in [2,6,13,16,23]:\n",
        "    x1 = df.iloc[row]['ATTENDANCE']\n",
        "    y1 = df.iloc[row]['MARKS']\n",
        "    mini = 1000\n",
        "    c = 0\n",
        "    for i in range(5):\n",
        "      x2 = []\n",
        "      y2 = []\n",
        "      for j in range(len(centroids[i])):\n",
        "        x2.append(df.iloc[centroids[i][j]-1].ATTENDANCE)\n",
        "        y2.append(df.iloc[centroids[i][j]-1].MARKS)\n",
        "      x2 = np.array(x2)\n",
        "      y2 = np.array(y2)\n",
        "      x2 = x2.mean()\n",
        "      y2 = y2.mean()\n",
        "      if(EuclidDist(x1,y1,x2,y2)<mini):\n",
        "        mini = EuclidDist(x1,y1,x2,y2)\n",
        "        c = i;\n",
        "    centroids[c].append(row+1)"
      ],
      "metadata": {
        "id": "ft8wHJyMfVME"
      },
      "execution_count": 41,
      "outputs": []
    },
    {
      "cell_type": "code",
      "source": [
        "print(\"cluster 1 :\",centroids[0])\n",
        "print(\"cluster 2 :\",centroids[1])\n",
        "print(\"cluster 3 :\",centroids[2])\n",
        "print(\"cluster 4 :\",centroids[3])\n",
        "print(\"cluster 5 :\",centroids[4])"
      ],
      "metadata": {
        "colab": {
          "base_uri": "https://localhost:8080/",
          "height": 0
        },
        "id": "AHOqU9jZhIvI",
        "outputId": "fc64eadc-5b5e-45a6-8820-1f52852f03b2"
      },
      "execution_count": 42,
      "outputs": [
        {
          "output_type": "stream",
          "name": "stdout",
          "text": [
            "cluster 1 : [2, 9, 21, 25, 26]\n",
            "cluster 2 : [6, 4, 5, 7, 8, 10, 11, 19, 20]\n",
            "cluster 3 : [13, 12, 18, 27, 28]\n",
            "cluster 4 : [16, 14, 15, 17, 29, 30]\n",
            "cluster 5 : [23, 1, 3, 22, 24]\n"
          ]
        }
      ]
    },
    {
      "cell_type": "code",
      "source": [
        ""
      ],
      "metadata": {
        "id": "YlwnBbcEhhKp"
      },
      "execution_count": 42,
      "outputs": []
    }
  ]
}